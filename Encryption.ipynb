{
 "cells": [
  {
   "cell_type": "raw",
   "metadata": {},
   "source": [
    "# Encryption Project - practice notebook\n",
    "\n",
    "This notebook will give you all the skills you need to code your encryption Project"
   ]
  },
  {
   "cell_type": "markdown",
   "metadata": {},
   "source": [
    "## Reading from Files in Python"
   ]
  },
  {
   "cell_type": "markdown",
   "metadata": {},
   "source": [
    "In order to work with files you need a variable called a FILE HANDLE - think of it as the variable you can then use to GRAB the file\n"
   ]
  },
  {
   "cell_type": "markdown",
   "metadata": {},
   "source": [
    "Suppose you want to write to a file called work.txt  here's how you would create it (if it does not yet exist) and open it.\n"
   ]
  },
  {
   "cell_type": "code",
   "execution_count": null,
   "metadata": {},
   "outputs": [],
   "source": [
    "f = open('input.txt', 'w')"
   ]
  },
  {
   "cell_type": "code",
   "execution_count": null,
   "metadata": {},
   "outputs": [],
   "source": [
    "f = open ('work.txt', 'w')"
   ]
  },
  {
   "cell_type": "markdown",
   "metadata": {},
   "source": [
    "# Task:\n",
    "Put some words into the file (open it up and type them in!). One on each line, or separated by commas if there are more than one word per line. Start like this for instance:\n",
    "```\n",
    "apple, banana, pear\n",
    "grapefruit\n",
    "grape, satsuma, watermelon\n",
    "litchi\n",
    "```\n",
    "\n",
    "add at least 10\n",
    "\n",
    "**remember to SAVE the file!**\n"
   ]
  },
  {
   "cell_type": "code",
   "execution_count": null,
   "metadata": {},
   "outputs": [],
   "source": [
    "f = open('work.txt', 'r')\n",
    "fileContents = f.readlines()\n",
    "fileContents"
   ]
  },
  {
   "cell_type": "code",
   "execution_count": null,
   "metadata": {},
   "outputs": [],
   "source": [
    "f = open('work.txt', 'r')\n",
    "fileContents = f.read()\n",
    "fileContents"
   ]
  },
  {
   "cell_type": "markdown",
   "metadata": {},
   "source": [
    "# Think\n",
    "\n",
    "Do you notice that you have a newline character ```\\n``` at the end of each line  in the file? That's because you typed ENTER after each line and this is a valid character and so is read like any other\n",
    "\n",
    "so you need to remove the newline character... \n",
    "\n",
    "Also, we've got to choose where to go with lists (of strings) like these:\n",
    "\n",
    "``` python\n",
    "['apple, banana, pear\\n',\n",
    " 'grapefruit\\n',\n",
    " 'grape, satsuma, watermelon\\n',\n",
    " 'litchi'] \n",
    "```\n",
    "or strings like these:\n",
    "\n",
    "``` python\n",
    "'apple, banana, pear\\ngrapefruit\\ngrape, satsuma, watermelon\\nlitchi'\n",
    "```\n",
    "and then turn either one into a *clean* list of strings like this:\n",
    "``` python\n",
    "['apple', 'banana', 'pear','grapefruit','grape', 'satsuma', 'watermelon','litchi'] \n",
    "```\n"
   ]
  },
  {
   "cell_type": "markdown",
   "metadata": {},
   "source": [
    "## Python string methods \n",
    "\n",
    "https://docs.python.org/3.3/library/stdtypes.html#string-methods"
   ]
  },
  {
   "cell_type": "markdown",
   "metadata": {},
   "source": [
    "# Experiment  - SPLIT\n",
    "\n",
    "```python\n",
    "    str.split(sep=None)\n",
    "```"
   ]
  },
  {
   "cell_type": "code",
   "execution_count": null,
   "metadata": {},
   "outputs": [],
   "source": [
    "s = \"This is a long example string, @ with lots of different @&% bits 012xyz\"\n",
    "s.split(\"o\") "
   ]
  },
  {
   "cell_type": "markdown",
   "metadata": {},
   "source": [
    "## What does the .split() method do?\n",
    "\n",
    "*your answer here*"
   ]
  },
  {
   "cell_type": "markdown",
   "metadata": {},
   "source": [
    "# Experiment  - STRIP\n",
    "\n",
    "```python\n",
    "str.strip(chars)\n",
    "```\n"
   ]
  },
  {
   "cell_type": "code",
   "execution_count": null,
   "metadata": {},
   "outputs": [],
   "source": [
    "s=\"ooohello worldoooo\"\n",
    "newS = s.strip(\"o\")\n",
    "print(newS)\n",
    "newS = s.strip(\"oh\")\n",
    "print(newS)\n",
    "newS = s.strip(\"r\")\n",
    "print(newS)"
   ]
  },
  {
   "cell_type": "markdown",
   "metadata": {},
   "source": [
    "## Task \n",
    "\n",
    "Write python code to\n",
    "- open the text file for reading\n",
    "- read the contents into a list or string (you choose)\n",
    "- create a list of strings with no newline characters\n",
    "- print the final list to see that you have been successful"
   ]
  },
  {
   "cell_type": "code",
   "execution_count": null,
   "metadata": {},
   "outputs": [],
   "source": [
    "## your code here\n"
   ]
  },
  {
   "cell_type": "markdown",
   "metadata": {},
   "source": [
    "\n",
    "## Manipulating Strings with python [String methods](https://docs.python.org/3.3/library/stdtypes.html#text-sequence-type-str)\n",
    "\n",
    "### Finding substrings or characters in Strings\n",
    "\n",
    "```python\n",
    "    str.find(sub)\n",
    "```\n",
    "Return the lowest index in the string where substring sub is found. Return -1 if sub is not found."
   ]
  },
  {
   "cell_type": "code",
   "execution_count": null,
   "metadata": {},
   "outputs": [],
   "source": [
    "s = \"we are the world\"\n",
    "s.find(\"are\")"
   ]
  },
  {
   "cell_type": "code",
   "execution_count": null,
   "metadata": {},
   "outputs": [],
   "source": [
    "s.find(\"z\")"
   ]
  },
  {
   "cell_type": "markdown",
   "metadata": {},
   "source": [
    "## Question\n",
    "\n",
    "What if the substring (which may be one character) appears twice?\n",
    "\n",
    "## Your Answer:\n",
    "\n",
    "*your answer here*"
   ]
  },
  {
   "cell_type": "markdown",
   "metadata": {},
   "source": [
    "### Removing substrings or characters in Strings\n",
    "\n",
    "Because Python strings are immutable there is no method for this, so you'll have to write a your own function. It will actually produce another string which can then just be assigned to the original string so its seems like its changed, but actually the variable is pointing to another part of memory. This means lots of variables are created in memory that can no longer be accessed and so as not to waste memory Python will need to done some [garbage collection](https://docs.python.org/3/glossary.html#term-garbage-collection). Luckily Python does this for you\n"
   ]
  },
  {
   "cell_type": "code",
   "execution_count": null,
   "metadata": {},
   "outputs": [],
   "source": [
    "#This function removes the character c from the string s\n",
    "# defining a function\n",
    "def removeCharFromString(c, s):\n",
    "    \n",
    "    return s\n",
    "    "
   ]
  },
  {
   "cell_type": "code",
   "execution_count": null,
   "metadata": {},
   "outputs": [],
   "source": [
    "# calling a function\n",
    "newS= removeCharFromString(\"a\",\"that was alot of fun\")"
   ]
  },
  {
   "cell_type": "markdown",
   "metadata": {},
   "source": [
    "## Task : find and replace\n",
    "\n",
    "Now write another function that will find a character in a string an replace it with another character that the user chooses. Adapt your code for ```removeCharFromString``` to achieve this"
   ]
  },
  {
   "cell_type": "code",
   "execution_count": null,
   "metadata": {},
   "outputs": [],
   "source": [
    "# define a function\n",
    "def findReplaceChar(findCh, replaceCh, s):\n",
    "    \n",
    "    return s"
   ]
  },
  {
   "cell_type": "code",
   "execution_count": null,
   "metadata": {},
   "outputs": [],
   "source": [
    "# calling a function\n",
    "newS= findReplaceChar(\"a\", \"b\", \"that was alot of fun\")"
   ]
  },
  {
   "cell_type": "code",
   "execution_count": null,
   "metadata": {},
   "outputs": [],
   "source": [
    "# TESTING\n",
    "# run this assert, if you function works correctly, it won't return \n",
    "# an AssertionError\n",
    "\n",
    "assert (findReplaceChar(\"a\", \"b\", \"that was alot of fun\") == \"thbt wbs blot of fun\")"
   ]
  },
  {
   "cell_type": "markdown",
   "metadata": {},
   "source": [
    "## Writing lists to files in python\n",
    "\n",
    "Once you have manipulated your list of strings, you'll want to save the content of the list back into a file. This sample code shows you how:"
   ]
  },
  {
   "cell_type": "code",
   "execution_count": null,
   "metadata": {},
   "outputs": [],
   "source": [
    "wordList = ['one','two','three']\n",
    "f = open('output.txt', 'w')\n",
    "f.writelines(wordList)\n",
    "f.close()"
   ]
  },
  {
   "cell_type": "markdown",
   "metadata": {},
   "source": [
    "## what happened? Look at your folder structure\n",
    "\n",
    "*your answer here*"
   ]
  },
  {
   "cell_type": "code",
   "execution_count": null,
   "metadata": {},
   "outputs": [],
   "source": [
    "# now use your skills to write each word, one by one, on a new line in the file.\n"
   ]
  }
 ],
 "metadata": {
  "kernelspec": {
   "display_name": "Python 3",
   "language": "python",
   "name": "python3"
  },
  "language_info": {
   "codemirror_mode": {
    "name": "ipython",
    "version": 3
   },
   "file_extension": ".py",
   "mimetype": "text/x-python",
   "name": "python",
   "nbconvert_exporter": "python",
   "pygments_lexer": "ipython3",
   "version": "3.6.9"
  }
 },
 "nbformat": 4,
 "nbformat_minor": 2
}
